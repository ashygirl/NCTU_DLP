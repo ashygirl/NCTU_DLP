{
 "cells": [
  {
   "cell_type": "markdown",
   "metadata": {},
   "source": [
    "## Imbalance Data Analysis"
   ]
  },
  {
   "cell_type": "code",
   "execution_count": 1,
   "metadata": {},
   "outputs": [
    {
     "name": "stdout",
     "output_type": "stream",
     "text": [
      "1.4.0\n",
      "True\n"
     ]
    }
   ],
   "source": [
    "import torch\n",
    "print(torch.__version__)\n",
    "print(torch.cuda.is_available())\n",
    "device=torch.device('cuda',1)\n",
    "from torch.utils.data import Dataset,DataLoader\n",
    "from torchvision import transforms,models\n",
    "import torch.nn as nn\n",
    "import torch.optim as optim\n",
    "import copy\n",
    "import os\n",
    "from PIL import Image\n",
    "import numpy as np\n",
    "import pandas as pd\n",
    "import matplotlib.pyplot as plt\n",
    "from dataloader import getData"
   ]
  },
  {
   "cell_type": "code",
   "execution_count": 2,
   "metadata": {},
   "outputs": [],
   "source": [
    "X,y=getData('train')"
   ]
  },
  {
   "cell_type": "code",
   "execution_count": 3,
   "metadata": {},
   "outputs": [
    {
     "name": "stdout",
     "output_type": "stream",
     "text": [
      "[20655, 1955, 4210, 698, 581]\n",
      "1.0\n",
      "10.565217391304348\n",
      "4.906175771971497\n",
      "29.591690544412607\n",
      "35.55077452667814\n",
      "0.73507954019716\n"
     ]
    }
   ],
   "source": [
    "count=[]\n",
    "a=0\n",
    "for i in range(5):\n",
    "    count.append(np.count_nonzero(y==i))\n",
    "    a=max(a,count[-1])\n",
    "print(count)\n",
    "\n",
    "for i in range(5):\n",
    "    print(a/count[i])\n",
    "    \n",
    "print(count[0]/sum(count))"
   ]
  },
  {
   "cell_type": "markdown",
   "metadata": {},
   "source": [
    "## Normalize analysis"
   ]
  },
  {
   "cell_type": "code",
   "execution_count": 4,
   "metadata": {},
   "outputs": [],
   "source": [
    "class RetinopathyDataSet(Dataset):\n",
    "    def __init__(self, img_path, mode):\n",
    "        \"\"\"\n",
    "        Args:\n",
    "            img_path: Root path of the dataset.\n",
    "            mode: training/testing\n",
    "            \n",
    "            self.img_names (string list): String list that store all image names.\n",
    "            self.labels (int or float list): Numerical list that store all ground truth label values.\n",
    "        \"\"\"\n",
    "        self.img_path = img_path\n",
    "        self.mode = mode\n",
    "        \n",
    "        self.img_names=np.squeeze(pd.read_csv('train_img.csv' if mode=='train' else 'test_img.csv').values)\n",
    "        self.labels=np.squeeze(pd.read_csv('train_label.csv' if mode=='train' else 'test_label.csv').values)\n",
    "        assert len(self.img_names)==len(self.labels),'length not the same'\n",
    "        self.data_len=len(self.img_names)\n",
    "        \n",
    "        self.transformations=transforms.Compose([transforms.RandomHorizontalFlip(),transforms.RandomVerticalFlip(),transforms.ToTensor()])\n",
    "        print(f'>> Found {self.data_len} images...')\n",
    "        \n",
    "    def __len__(self):\n",
    "        return self.data_len\n",
    "\n",
    "    def __getitem__(self, index):\n",
    "        single_img_name=os.path.join(self.img_path,self.img_names[index]+'.jpeg')\n",
    "        single_img=Image.open(single_img_name)  # read an PIL image\n",
    "        img=self.transformations(single_img)\n",
    "        label=self.labels[index]\n",
    "        \n",
    "        return img, label"
   ]
  },
  {
   "cell_type": "code",
   "execution_count": 5,
   "metadata": {},
   "outputs": [
    {
     "name": "stdout",
     "output_type": "stream",
     "text": [
      ">> Found 28099 images...\n"
     ]
    }
   ],
   "source": [
    "dataset_train=RetinopathyDataSet(img_path='data',mode='train')\n",
    "loader_train=DataLoader(dataset=dataset_train,batch_size=16,shuffle=True,num_workers=4)"
   ]
  },
  {
   "cell_type": "code",
   "execution_count": 6,
   "metadata": {},
   "outputs": [],
   "source": [
    "def compute_mean_std(loader):\n",
    "    mean = 0.\n",
    "    std = 0.\n",
    "    for images, _ in loader:\n",
    "        batch_samples = images.size(0) # batch size (the last batch can have smaller size!)\n",
    "        images = images.view(batch_samples, images.size(1), -1)\n",
    "        mean += images.mean(2).sum(0)\n",
    "        std += images.std(2).sum(0)\n",
    "\n",
    "    mean /= len(loader.dataset)\n",
    "    std /= len(loader.dataset)\n",
    "    return mean, std"
   ]
  },
  {
   "cell_type": "code",
   "execution_count": 7,
   "metadata": {},
   "outputs": [],
   "source": [
    "mean,std=compute_mean_std(loader_train)"
   ]
  },
  {
   "cell_type": "code",
   "execution_count": 8,
   "metadata": {},
   "outputs": [
    {
     "name": "stdout",
     "output_type": "stream",
     "text": [
      "tensor([0.3749, 0.2602, 0.1857])\n",
      "tensor([0.2526, 0.1780, 0.1291])\n"
     ]
    }
   ],
   "source": [
    "print(mean)\n",
    "print(std)"
   ]
  },
  {
   "cell_type": "code",
   "execution_count": null,
   "metadata": {},
   "outputs": [],
   "source": []
  }
 ],
 "metadata": {
  "kernelspec": {
   "display_name": "Python 3",
   "language": "python",
   "name": "python3"
  },
  "language_info": {
   "codemirror_mode": {
    "name": "ipython",
    "version": 3
   },
   "file_extension": ".py",
   "mimetype": "text/x-python",
   "name": "python",
   "nbconvert_exporter": "python",
   "pygments_lexer": "ipython3",
   "version": "3.7.3"
  }
 },
 "nbformat": 4,
 "nbformat_minor": 2
}
