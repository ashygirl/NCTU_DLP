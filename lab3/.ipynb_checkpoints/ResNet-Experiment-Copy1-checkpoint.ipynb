{
 "cells": [
  {
   "cell_type": "markdown",
   "metadata": {},
   "source": [
    "# Lab3 ResNet18"
   ]
  },
  {
   "cell_type": "code",
   "execution_count": 1,
   "metadata": {},
   "outputs": [
    {
     "name": "stdout",
     "output_type": "stream",
     "text": [
      "1.4.0\n",
      "True\n"
     ]
    }
   ],
   "source": [
    "import os\n",
    "import torch\n",
    "print(torch.__version__)\n",
    "print(torch.cuda.is_available())\n",
    "device=torch.device('cuda',0)\n",
    "from torch.utils.data import Dataset,DataLoader\n",
    "from torchvision import transforms,models\n",
    "import torch.nn as nn\n",
    "import torch.optim as optim\n",
    "import copy\n",
    "from PIL import Image\n",
    "import numpy as np\n",
    "import pandas as pd\n",
    "import matplotlib.pyplot as plt"
   ]
  },
  {
   "cell_type": "markdown",
   "metadata": {},
   "source": [
    "## DataSet & DataLoader\n",
    "data augmentation:  \n",
    "1. RandomHorizontalFlip\n",
    "2. RandomVerticalFilp\n",
    "3. Normalize each channel(R,G,B)"
   ]
  },
  {
   "cell_type": "code",
   "execution_count": 2,
   "metadata": {},
   "outputs": [],
   "source": [
    "class RetinopathyDataSet(Dataset):\n",
    "    def __init__(self, img_path, mode):\n",
    "        \"\"\"\n",
    "        Args:\n",
    "            img_path: Root path of the dataset.\n",
    "            mode: training/testing\n",
    "            \n",
    "            self.img_names (string list): String list that store all image names.\n",
    "            self.labels (int or float list): Numerical list that store all ground truth label values.\n",
    "        \"\"\"\n",
    "        self.img_path = img_path\n",
    "        self.mode = mode\n",
    "        \n",
    "        self.img_names=np.squeeze(pd.read_csv('train_img.csv' if mode=='train' else 'test_img.csv').values)\n",
    "        self.labels=np.squeeze(pd.read_csv('train_label.csv' if mode=='train' else 'test_label.csv').values)\n",
    "        assert len(self.img_names)==len(self.labels),'length not the same'\n",
    "        self.data_len=len(self.img_names)\n",
    "        \n",
    "        self.transformations=transforms.Compose([transforms.RandomHorizontalFlip(),transforms.RandomVerticalFlip(),transforms.ToTensor(),\n",
    "                                                 transforms.Normalize((0.3749,0.2602,0.1857),(0.2526, 0.1780, 0.1291))])\n",
    "        print(f'>> Found {self.data_len} images...')\n",
    "        \n",
    "    def __len__(self):\n",
    "        return self.data_len\n",
    "\n",
    "    def __getitem__(self, index):\n",
    "        single_img_name=os.path.join(self.img_path,self.img_names[index]+'.jpeg')\n",
    "        single_img=Image.open(single_img_name)  # read an PIL image\n",
    "        img=self.transformations(single_img)\n",
    "        label=self.labels[index]\n",
    "        \n",
    "        return img, label"
   ]
  },
  {
   "cell_type": "markdown",
   "metadata": {},
   "source": [
    "## Model\n",
    "1. ResNet18 (with/wo pretrained weights)\n",
    "2. ResNet50 (with/wo pretrained weights)\n",
    "\n",
    "reference: https://pytorch.org/tutorials/beginner/finetuning_torchvision_models_tutorial.html#initialize-and-reshape-the-networks  "
   ]
  },
  {
   "cell_type": "code",
   "execution_count": 3,
   "metadata": {},
   "outputs": [],
   "source": [
    "class ResNet18(nn.Module):\n",
    "    def __init__(self,num_class,pretrained=False):\n",
    "        \"\"\"\n",
    "        Args:\n",
    "            num_class: #target class\n",
    "            pretrained: \n",
    "                True: the model will have pretrained weights, and only the last layer's 'requires_grad' is True(trainable)\n",
    "                False: random initialize weights, and all layer's 'require_grad' is True\n",
    "        \"\"\"\n",
    "        super(ResNet18,self).__init__()\n",
    "        self.model=models.resnet18(pretrained=pretrained)\n",
    "        if pretrained:\n",
    "            for param in self.model.parameters():\n",
    "                param.requires_grad=False\n",
    "        num_neurons=self.model.fc.in_features\n",
    "        self.model.fc=nn.Linear(num_neurons,num_class)\n",
    "        \n",
    "    def forward(self,X):\n",
    "        out=self.model(X)\n",
    "        return out\n",
    "    \n",
    "class ResNet50(nn.Module):\n",
    "    def __init__(self,num_class,pretrained=False):\n",
    "        \"\"\"\n",
    "        Args:\n",
    "            num_class: #target class\n",
    "            pretrained: \n",
    "                True: the model will have pretrained weights, and only the last layer's 'requires_grad' is True(trainable)\n",
    "                False: random initialize weights, and all layer's 'require_grad' is True\n",
    "        \"\"\"\n",
    "        super(ResNet50,self).__init__()\n",
    "        self.model=models.resnet50(pretrained=pretrained)\n",
    "        if pretrained:\n",
    "            for param in self.model.parameters():\n",
    "                param.requires_grad=False\n",
    "        num_neurons=self.model.fc.in_features\n",
    "        self.model.fc=nn.Linear(num_neurons,num_class)\n",
    "        \n",
    "    def forward(self,X):\n",
    "        out=self.model(X)\n",
    "        return out"
   ]
  },
  {
   "cell_type": "markdown",
   "metadata": {},
   "source": [
    "## Train & Evaluate"
   ]
  },
  {
   "cell_type": "code",
   "execution_count": 4,
   "metadata": {},
   "outputs": [],
   "source": [
    "def train(model,loader_train,loader_test,Loss,optimizer,epochs,device,num_class,name):\n",
    "    \"\"\"\n",
    "    Args:\n",
    "        model: resnet model\n",
    "        loader_train: training dataloader\n",
    "        loader_test: testing dataloader\n",
    "        Loss: loss function\n",
    "        optimizer: optimizer\n",
    "        epochs: number of training epoch\n",
    "        device: gpu/cpu\n",
    "        num_class: #target class\n",
    "        name: model name when saving model\n",
    "    Returns:\n",
    "        dataframe: with column 'epoch','acc_train','acc_test'\n",
    "    \"\"\"\n",
    "    df=pd.DataFrame()\n",
    "    df['epoch']=range(1,epochs+1)\n",
    "    best_model_wts=None\n",
    "    best_evaluated_acc=0\n",
    "    \n",
    "    model.to(device)\n",
    "    acc_train=list()\n",
    "    acc_test=list()\n",
    "    for epoch in range(1,epochs+1):\n",
    "        \"\"\"\n",
    "        train\n",
    "        \"\"\"\n",
    "        with torch.set_grad_enabled(True):\n",
    "            model.train()\n",
    "            total_loss=0\n",
    "            correct=0\n",
    "            for images,targets in loader_train:\n",
    "                images,targets=images.to(device),targets.to(device,dtype=torch.long)\n",
    "                predict=model(images)\n",
    "                loss=Loss(predict,targets)\n",
    "                total_loss+=loss.item()\n",
    "                correct+=predict.max(dim=1)[1].eq(targets).sum().item()\n",
    "                \"\"\"\n",
    "                update\n",
    "                \"\"\"\n",
    "                optimizer.zero_grad()\n",
    "                loss.backward()  # bp\n",
    "                optimizer.step()\n",
    "            total_loss/=len(loader_train.dataset)\n",
    "            acc=100.*correct/len(loader_train.dataset)\n",
    "            acc_train.append(acc)\n",
    "            print(f'epoch{epoch:>2d} loss:{total_loss:.4f} acc:{acc:.2f}%')\n",
    "        \"\"\"\n",
    "        evaluate\n",
    "        \"\"\"\n",
    "        _,acc=evaluate(model,loader_test,device,num_class)\n",
    "        acc_test.append(acc)\n",
    "        # update best_model_wts\n",
    "        if acc>best_evaluated_acc:\n",
    "            best_evaluated_acc=acc\n",
    "            best_model_wts=copy.deepcopy(model.state_dict())\n",
    "    \n",
    "    df['acc_train']=acc_train\n",
    "    df['acc_test']=acc_test\n",
    "    \n",
    "    # save model\n",
    "    torch.save(best_model_wts,os.path.join('experiment models',name+'.pt'))\n",
    "    \n",
    "    return df"
   ]
  },
  {
   "cell_type": "code",
   "execution_count": 5,
   "metadata": {},
   "outputs": [],
   "source": [
    "def evaluate(model,loader_test,device,num_class):\n",
    "    \"\"\"\n",
    "    Args:\n",
    "        model: resnet model\n",
    "        loader_test: testing dataloader\n",
    "        device: gpu/cpu\n",
    "        num_class: #target class\n",
    "    Returns:\n",
    "        confusion_matrix: (num_class,num_class) ndarray\n",
    "        acc: accuracy rate\n",
    "    \"\"\"\n",
    "    confusion_matrix=np.zeros((num_class,num_class))\n",
    "    \n",
    "    with torch.set_grad_enabled(False):\n",
    "        model.eval()\n",
    "        correct=0\n",
    "        for images,targets in loader_test:  \n",
    "            images,targets=images.to(device),targets.to(device,dtype=torch.long)\n",
    "            predict=model(images)\n",
    "            predict_class=predict.max(dim=1)[1]\n",
    "            correct+=predict_class.eq(targets).sum().item()\n",
    "            for i in range(len(targets)):\n",
    "                confusion_matrix[int(targets[i])][int(predict_class[i])]+=1\n",
    "        acc=100.*correct/len(loader_test.dataset)\n",
    "        \n",
    "    # normalize confusion_matrix\n",
    "    confusion_matrix=confusion_matrix/confusion_matrix.sum(axis=1).reshape(num_class,1)\n",
    "    \n",
    "    return confusion_matrix,acc"
   ]
  },
  {
   "cell_type": "markdown",
   "metadata": {},
   "source": [
    "## Plot"
   ]
  },
  {
   "cell_type": "code",
   "execution_count": 6,
   "metadata": {},
   "outputs": [],
   "source": [
    "def plot(dataframe1,title):\n",
    "    \"\"\"\n",
    "    Arguments:\n",
    "        dataframe1: dataframe with 'epoch','acc_train','acc_test' columns of with pretrained weights model \n",
    "        title: figure's title\n",
    "    Returns:\n",
    "        figure: an figure\n",
    "    \"\"\"\n",
    "    fig=plt.figure(figsize=(10,6))\n",
    "    for name in dataframe1.columns[1:]:\n",
    "        plt.plot(range(1,1+len(dataframe1)),name,data=dataframe1,label=name[4:]+'(with pretraining)')\n",
    "    plt.xlabel('Epochs')\n",
    "    plt.ylabel('Accuracy(%)')\n",
    "    plt.title(title)\n",
    "    plt.legend()\n",
    "    return fig\n",
    "\n",
    "def plot_confusion_matrix(confusion_matrix):\n",
    "    fig, ax = plt.subplots(figsize=(6,6))\n",
    "    ax.matshow(confusion_matrix, cmap=plt.cm.Blues)\n",
    "    ax.xaxis.set_label_position('top')\n",
    "    for i in range(confusion_matrix.shape[0]):\n",
    "        for j in range(confusion_matrix.shape[1]):\n",
    "            ax.text(i, j, '{:.2f}'.format(confusion_matrix[j, i]), va='center', ha='center')\n",
    "    ax.set_xlabel('Predicted label')\n",
    "    ax.set_ylabel('True label')\n",
    "    return fig"
   ]
  },
  {
   "cell_type": "markdown",
   "metadata": {},
   "source": [
    "## Hyperparameters\n",
    "__num_class__: 5  \n",
    "__batch_size:__  \n",
    "1. Resnet18: 64\n",
    "2. Resnet50: 16\n",
    "\n",
    "__learning rate:__ 5e-4/1e-3  \n",
    "__Epochs:__  \n",
    "1. model wo pretrained weights: 20\n",
    "2. model with pretrained weights: 4(feature extraction) + 16(finetuning)\n",
    "\n",
    "__Optimizer:__ SGD,momentum=0.9,weight_decay=5e-4  \n",
    "__loss function:__ cross entropy  "
   ]
  },
  {
   "cell_type": "code",
   "execution_count": 7,
   "metadata": {},
   "outputs": [],
   "source": [
    "num_class=5\n",
    "batch_size=32\n",
    "lr=1e-3\n",
    "epochs=20\n",
    "epochs_feature_extraction=4\n",
    "epochs_fine_tuning=16\n",
    "momentum=0.9\n",
    "weight_decay_feature_extraction=5e-4\n",
    "weight_decay_finetuning=5e-3\n",
    "Loss=nn.CrossEntropyLoss()"
   ]
  },
  {
   "cell_type": "markdown",
   "metadata": {},
   "source": [
    "# Run ResNet18"
   ]
  },
  {
   "cell_type": "code",
   "execution_count": 8,
   "metadata": {},
   "outputs": [
    {
     "name": "stdout",
     "output_type": "stream",
     "text": [
      ">> Found 28099 images...\n",
      ">> Found 7025 images...\n"
     ]
    }
   ],
   "source": [
    "dataset_train=RetinopathyDataSet(img_path='data',mode='train')\n",
    "loader_train=DataLoader(dataset=dataset_train,batch_size=batch_size,shuffle=True,num_workers=4)\n",
    "\n",
    "dataset_test=RetinopathyDataSet(img_path='data',mode='test')\n",
    "loader_test=DataLoader(dataset=dataset_test,batch_size=batch_size,shuffle=False,num_workers=4)"
   ]
  },
  {
   "cell_type": "code",
   "execution_count": 9,
   "metadata": {
    "scrolled": false
   },
   "outputs": [
    {
     "name": "stdout",
     "output_type": "stream",
     "text": [
      "epoch 1 loss:0.0259 acc:73.37%\n",
      "epoch 2 loss:0.0246 acc:73.92%\n",
      "epoch 3 loss:0.0242 acc:74.16%\n",
      "epoch 4 loss:0.0239 acc:74.37%\n",
      "epoch 1 loss:0.0217 acc:76.68%\n",
      "epoch 2 loss:0.0193 acc:79.39%\n",
      "epoch 3 loss:0.0183 acc:80.58%\n",
      "epoch 4 loss:0.0175 acc:81.29%\n",
      "epoch 5 loss:0.0169 acc:81.87%\n",
      "epoch 6 loss:0.0165 acc:82.41%\n",
      "epoch 7 loss:0.0160 acc:82.80%\n",
      "epoch 8 loss:0.0156 acc:83.20%\n",
      "epoch 9 loss:0.0153 acc:83.48%\n",
      "epoch10 loss:0.0150 acc:83.61%\n",
      "epoch11 loss:0.0148 acc:83.71%\n",
      "epoch12 loss:0.0145 acc:84.03%\n",
      "epoch13 loss:0.0142 acc:84.33%\n",
      "epoch14 loss:0.0139 acc:84.57%\n",
      "epoch15 loss:0.0137 acc:84.80%\n",
      "epoch16 loss:0.0136 acc:84.86%\n"
     ]
    },
    {
     "data": {
      "image/png": "[encoded data removed]",
      "text/plain": [
       "<Figure size 432x432 with 1 Axes>"
      ]
     },
     "metadata": {
      "needs_background": "light"
     },
     "output_type": "display_data"
    },
    {
     "data": {
      "image/png": "[encoded data removed]",
      "text/plain": [
       "<Figure size 720x432 with 1 Axes>"
      ]
     },
     "metadata": {
      "needs_background": "light"
     },
     "output_type": "display_data"
    }
   ],
   "source": [
    "\"\"\"\n",
    "resnet18 without pretrained weights\n",
    "\"\"\"\n",
    "'''\n",
    "model_wo=ResNet18(num_class=num_class,pretrained=False)\n",
    "optimizer=optim.SGD(model_wo.parameters(),lr=lr,momentum=momentum,weight_decay=weight_decay)\n",
    "df_wo_pretrained=train(model_wo,loader_train,loader_test,Loss,optimizer,epochs,device,num_class,'resnet18_wo_pretraining')\n",
    "# test and save confusion matrix figure\n",
    "confusion_matrix,_=evaluate(model_wo,loader_test,device,num_class)\n",
    "figure=plot_confusion_matrix(confusion_matrix)\n",
    "figure.savefig('ResNet18 (wo pretrained weights).png')\n",
    "'''\n",
    "\"\"\"\n",
    "resnet18 with pretrained weights\n",
    "    feature extraction for few epochs, then finefuning for some epochs\n",
    "\"\"\"\n",
    "model_with=ResNet18(num_class=num_class,pretrained=True)\n",
    "# feature extraction\n",
    "params_to_update=[]\n",
    "for name,param in model_with.named_parameters():\n",
    "    if param.requires_grad:\n",
    "        params_to_update.append(param)\n",
    "optimizer=optim.SGD(params_to_update,lr=lr,momentum=momentum,weight_decay=weight_decay_feature_extraction)\n",
    "df_firststep=train(model_with,loader_train,loader_test,Loss,optimizer,epochs_feature_extraction,device,num_class,'resnet18_with_pretraining')\n",
    "# finetuning\n",
    "for param in model_with.parameters():\n",
    "    param.requires_grad=True\n",
    "optimizer=optim.SGD(model_with.parameters(),lr=lr,momentum=momentum,weight_decay=weight_decay_finetuning)\n",
    "df_secondstep=train(model_with,loader_train,loader_test,Loss,optimizer,epochs_fine_tuning,device,num_class,'resnet18_with_pretraining')\n",
    "df_with_pretrained=pd.concat([df_firststep,df_secondstep],axis=0,ignore_index=True)\n",
    "\n",
    "# test and get a confusion matrix\n",
    "confusion_matrix,_=evaluate(model_with,loader_test,device,num_class)\n",
    "figure=plot_confusion_matrix(confusion_matrix)\n",
    "#figure.savefig('ResNet18 (with pretrained weights).png')\n",
    "\n",
    "\"\"\"\n",
    "plot accuracy figure\n",
    "\"\"\"\n",
    "figure=plot(df_with_pretrained,'Result Comparison(ResNet18)')\n",
    "figure.savefig('Result Comparison(ResNet18).png')"
   ]
  },
  {
   "cell_type": "code",
   "execution_count": 11,
   "metadata": {
    "scrolled": false
   },
   "outputs": [
    {
     "name": "stdout",
     "output_type": "stream",
     "text": [
      "    epoch  acc_train   acc_test\n",
      "0       1  73.372718  73.437722\n",
      "1       2  73.924339  74.092527\n",
      "2       3  74.155664  74.163701\n",
      "3       4  74.372753  74.078292\n",
      "4       1  76.682444  77.224199\n",
      "5       2  79.394284  80.056940\n",
      "6       3  80.575821  80.498221\n",
      "7       4  81.291149  80.597865\n",
      "8       5  81.874800  81.081851\n",
      "9       6  82.412185  81.693950\n",
      "10      7  82.800100  80.370107\n",
      "11      8  83.195131  80.569395\n",
      "12      9  83.483398  81.153025\n",
      "13     10  83.607958  80.185053\n",
      "14     11  83.714723  81.395018\n",
      "15     12  84.027901  80.512456\n",
      "16     13  84.333962  81.437722\n",
      "17     14  84.565287  79.501779\n",
      "18     15  84.800171  81.096085\n",
      "19     16  84.864230  78.306050\n"
     ]
    }
   ],
   "source": [
    "print(df_with_pretrained)"
   ]
  },
  {
   "cell_type": "markdown",
   "metadata": {},
   "source": [
    "## Run ResNet50"
   ]
  },
  {
   "cell_type": "code",
   "execution_count": 12,
   "metadata": {},
   "outputs": [],
   "source": [
    "batch_size=8"
   ]
  },
  {
   "cell_type": "code",
   "execution_count": 13,
   "metadata": {},
   "outputs": [
    {
     "name": "stdout",
     "output_type": "stream",
     "text": [
      ">> Found 28099 images...\n",
      ">> Found 7025 images...\n"
     ]
    }
   ],
   "source": [
    "dataset_train=RetinopathyDataSet(img_path='data',mode='train')\n",
    "loader_train=DataLoader(dataset=dataset_train,batch_size=batch_size,shuffle=True,num_workers=4)\n",
    "\n",
    "dataset_test=RetinopathyDataSet(img_path='data',mode='test')\n",
    "loader_test=DataLoader(dataset=dataset_test,batch_size=batch_size,shuffle=False,num_workers=4)"
   ]
  },
  {
   "cell_type": "code",
   "execution_count": null,
   "metadata": {
    "scrolled": true
   },
   "outputs": [
    {
     "name": "stdout",
     "output_type": "stream",
     "text": [
      "epoch 1 loss:0.1071 acc:72.91%\n",
      "epoch 2 loss:0.1030 acc:73.06%\n",
      "epoch 3 loss:0.1012 acc:73.29%\n",
      "epoch 4 loss:0.1002 acc:73.38%\n",
      "epoch 1 loss:0.0890 acc:76.76%\n",
      "epoch 2 loss:0.0788 acc:78.99%\n",
      "epoch 3 loss:0.0759 acc:79.73%\n",
      "epoch 4 loss:0.0750 acc:79.92%\n",
      "epoch 5 loss:0.0756 acc:79.82%\n",
      "epoch 6 loss:0.0761 acc:79.71%\n"
     ]
    }
   ],
   "source": [
    "\"\"\"\n",
    "resnet50 without pretrained weights\n",
    "\"\"\"\n",
    "'''\n",
    "model_wo=ResNet50(num_class=num_class,pretrained=False)\n",
    "optimizer=optim.SGD(model_wo.parameters(),lr=lr,momentum=momentum,weight_decay=weight_decay)\n",
    "df_wo_pretrained=train(model_wo,loader_train,loader_test,Loss,optimizer,epochs,device,num_class,'resnet50_wo_pretraining')\n",
    "# test and save confusion matrix figure\n",
    "confusion_matrix,_=evaluate(model_wo,loader_test,device,num_class)\n",
    "figure=plot_confusion_matrix(confusion_matrix)\n",
    "figure.savefig('ResNet50 (wo pretrained weights).png')\n",
    "'''\n",
    "\"\"\"\n",
    "resnet50 with pretrained weights\n",
    "    first feature extraction for few epochs, then finefuning for some epochs\n",
    "\"\"\"\n",
    "model_with=ResNet50(num_class=num_class,pretrained=True)\n",
    "# feature extraction\n",
    "params_to_update=[]\n",
    "for name,param in model_with.named_parameters():\n",
    "    if param.requires_grad:\n",
    "        params_to_update.append(param)\n",
    "optimizer=optim.SGD(params_to_update,lr=lr,momentum=momentum,weight_decay=weight_decay_feature_extraction)\n",
    "df_firststep=train(model_with,loader_train,loader_test,Loss,optimizer,epochs_feature_extraction,device,num_class,'resnet50_with_pretraining')\n",
    "# finetuning\n",
    "for param in model_with.parameters():\n",
    "    param.requires_grad=True\n",
    "optimizer=optim.SGD(model_with.parameters(),lr=lr,momentum=momentum,weight_decay=weight_decay_finetuning)\n",
    "df_secondstep=train(model_with,loader_train,loader_test,Loss,optimizer,epochs_fine_tuning,device,num_class,'resnet50_with_pretraining')\n",
    "df_with_pretrained=pd.concat([df_firststep,df_secondstep],axis=0,ignore_index=True)\n",
    "\n",
    "# test and get a confusion matrix\n",
    "confusion_matrix,_=evaluate(model_with,loader_test,device,num_class)\n",
    "figure=plot_confusion_matrix(confusion_matrix)\n",
    "#figure.savefig('ResNet50 (with pretrained weights).png')\n",
    "\n",
    "\"\"\"\n",
    "plot accuracy figure\n",
    "\"\"\"\n",
    "figure=plot(df_with_pretrained,'Result Comparison(ResNet50)')\n",
    "figure.savefig('Result Comparison(ResNet50).png')"
   ]
  },
  {
   "cell_type": "code",
   "execution_count": null,
   "metadata": {},
   "outputs": [],
   "source": [
    "print(df_with_pretrained)"
   ]
  },
  {
   "cell_type": "code",
   "execution_count": null,
   "metadata": {},
   "outputs": [],
   "source": []
  }
 ],
 "metadata": {
  "kernelspec": {
   "display_name": "Python 3",
   "language": "python",
   "name": "python3"
  },
  "language_info": {
   "codemirror_mode": {
    "name": "ipython",
    "version": 3
   },
   "file_extension": ".py",
   "mimetype": "text/x-python",
   "name": "python",
   "nbconvert_exporter": "python",
   "pygments_lexer": "ipython3",
   "version": "3.7.3"
  }
 },
 "nbformat": 4,
 "nbformat_minor": 2
}
