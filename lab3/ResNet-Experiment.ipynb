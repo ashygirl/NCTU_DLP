{
 "cells": [
  {
   "cell_type": "markdown",
   "metadata": {},
   "source": [
    "# Lab3 ResNet18\n",
    "weighted loss + normalize"
   ]
  },
  {
   "cell_type": "code",
   "execution_count": 1,
   "metadata": {},
   "outputs": [
    {
     "name": "stdout",
     "output_type": "stream",
     "text": [
      "1.4.0\n",
      "True\n"
     ]
    }
   ],
   "source": [
    "import os\n",
    "import torch\n",
    "print(torch.__version__)\n",
    "print(torch.cuda.is_available())\n",
    "device=torch.device('cuda',0)\n",
    "from torch.utils.data import Dataset,DataLoader\n",
    "from torchvision import transforms,models\n",
    "import torch.nn as nn\n",
    "import torch.optim as optim\n",
    "import copy\n",
    "from PIL import Image\n",
    "import numpy as np\n",
    "import pandas as pd\n",
    "import matplotlib.pyplot as plt"
   ]
  },
  {
   "cell_type": "markdown",
   "metadata": {},
   "source": [
    "## DataSet & DataLoader\n",
    "data augmentation:  \n",
    "1. RandomHorizontalFlip\n",
    "2. RandomVerticalFilp\n",
    "3. Normalize each channel(R,G,B)"
   ]
  },
  {
   "cell_type": "code",
   "execution_count": 2,
   "metadata": {},
   "outputs": [],
   "source": [
    "class RetinopathyDataSet(Dataset):\n",
    "    def __init__(self, img_path, mode):\n",
    "        \"\"\"\n",
    "        Args:\n",
    "            img_path: Root path of the dataset.\n",
    "            mode: training/testing\n",
    "            \n",
    "            self.img_names (string list): String list that store all image names.\n",
    "            self.labels (int or float list): Numerical list that store all ground truth label values.\n",
    "        \"\"\"\n",
    "        self.img_path = img_path\n",
    "        self.mode = mode\n",
    "        \n",
    "        self.img_names=np.squeeze(pd.read_csv('train_img.csv' if mode=='train' else 'test_img.csv').values)\n",
    "        self.labels=np.squeeze(pd.read_csv('train_label.csv' if mode=='train' else 'test_label.csv').values)\n",
    "        assert len(self.img_names)==len(self.labels),'length not the same'\n",
    "        self.data_len=len(self.img_names)\n",
    "        \n",
    "        self.transformations=transforms.Compose([transforms.RandomHorizontalFlip(),transforms.RandomVerticalFlip(),transforms.ToTensor(),\n",
    "                                                transforms.Normalize([0.5769, 0.3852, 0.2649],[0.1061, 0.0809, 0.0555])])\n",
    "        print(f'>> Found {self.data_len} images...')\n",
    "        \n",
    "    def __len__(self):\n",
    "        return self.data_len\n",
    "\n",
    "    def __getitem__(self, index):\n",
    "        single_img_name=os.path.join(self.img_path,self.img_names[index]+'.jpeg')\n",
    "        single_img=Image.open(single_img_name)  # read an PIL image\n",
    "        img=self.transformations(single_img)\n",
    "        label=self.labels[index]\n",
    "        \n",
    "        return img, label"
   ]
  },
  {
   "cell_type": "markdown",
   "metadata": {},
   "source": [
    "## Model\n",
    "1. ResNet18 (with/wo pretrained weights)\n",
    "2. ResNet50 (with/wo pretrained weights)\n",
    "\n",
    "reference: https://pytorch.org/tutorials/beginner/finetuning_torchvision_models_tutorial.html#initialize-and-reshape-the-networks  "
   ]
  },
  {
   "cell_type": "code",
   "execution_count": 3,
   "metadata": {},
   "outputs": [],
   "source": [
    "class ResNet18(nn.Module):\n",
    "    def __init__(self,num_class,pretrained=False):\n",
    "        \"\"\"\n",
    "        Args:\n",
    "            num_class: #target class\n",
    "            pretrained: \n",
    "                True: the model will have pretrained weights, and only the last layer's 'requires_grad' is True(trainable)\n",
    "                False: random initialize weights, and all layer's 'require_grad' is True\n",
    "        \"\"\"\n",
    "        super(ResNet18,self).__init__()\n",
    "        self.model=models.resnet18(pretrained=pretrained)\n",
    "        if pretrained:\n",
    "            for param in self.model.parameters():\n",
    "                param.requires_grad=False\n",
    "        num_neurons=self.model.fc.in_features\n",
    "        self.model.fc=nn.Linear(num_neurons,num_class)\n",
    "        \n",
    "    def forward(self,X):\n",
    "        out=self.model(X)\n",
    "        return out\n",
    "    \n",
    "class ResNet50(nn.Module):\n",
    "    def __init__(self,num_class,pretrained=False):\n",
    "        \"\"\"\n",
    "        Args:\n",
    "            num_class: #target class\n",
    "            pretrained: \n",
    "                True: the model will have pretrained weights, and only the last layer's 'requires_grad' is True(trainable)\n",
    "                False: random initialize weights, and all layer's 'require_grad' is True\n",
    "        \"\"\"\n",
    "        super(ResNet50,self).__init__()\n",
    "        self.model=models.resnet50(pretrained=pretrained)\n",
    "        if pretrained:\n",
    "            for param in self.model.parameters():\n",
    "                param.requires_grad=False\n",
    "        num_neurons=self.model.fc.in_features\n",
    "        self.model.fc=nn.Linear(num_neurons,num_class)\n",
    "        \n",
    "    def forward(self,X):\n",
    "        out=self.model(X)\n",
    "        return out"
   ]
  },
  {
   "cell_type": "markdown",
   "metadata": {},
   "source": [
    "## Train & Evaluate"
   ]
  },
  {
   "cell_type": "code",
   "execution_count": 4,
   "metadata": {},
   "outputs": [],
   "source": [
    "def train(model,loader_train,loader_test,Loss,optimizer,epochs,device,num_class,name):\n",
    "    \"\"\"\n",
    "    Args:\n",
    "        model: resnet model\n",
    "        loader_train: training dataloader\n",
    "        loader_test: testing dataloader\n",
    "        Loss: loss function\n",
    "        optimizer: optimizer\n",
    "        epochs: number of training epoch\n",
    "        device: gpu/cpu\n",
    "        num_class: #target class\n",
    "        name: model name when saving model\n",
    "    Returns:\n",
    "        dataframe: with column 'epoch','acc_train','acc_test'\n",
    "    \"\"\"\n",
    "    df=pd.DataFrame()\n",
    "    df['epoch']=range(1,epochs+1)\n",
    "    best_model_wts=None\n",
    "    best_evaluated_acc=0\n",
    "    \n",
    "    model.to(device)\n",
    "    acc_train=list()\n",
    "    acc_test=list()\n",
    "    for epoch in range(1,epochs+1):\n",
    "        \"\"\"\n",
    "        train\n",
    "        \"\"\"\n",
    "        with torch.set_grad_enabled(True):\n",
    "            model.train()\n",
    "            total_loss=0\n",
    "            correct=0\n",
    "            for images,targets in loader_train:\n",
    "                images,targets=images.to(device),targets.to(device,dtype=torch.long)\n",
    "                predict=model(images)\n",
    "                loss=Loss(predict,targets)\n",
    "                total_loss+=loss.item()\n",
    "                correct+=predict.max(dim=1)[1].eq(targets).sum().item()\n",
    "                \"\"\"\n",
    "                update\n",
    "                \"\"\"\n",
    "                optimizer.zero_grad()\n",
    "                loss.backward()  # bp\n",
    "                optimizer.step()\n",
    "            total_loss/=len(loader_train.dataset)\n",
    "            acc=100.*correct/len(loader_train.dataset)\n",
    "            acc_train.append(acc)\n",
    "            print(f'epoch{epoch:>2d} loss:{total_loss:.4f} acc:{acc:.2f}%')\n",
    "        \"\"\"\n",
    "        evaluate\n",
    "        \"\"\"\n",
    "        _,acc=evaluate(model,loader_test,device,num_class)\n",
    "        acc_test.append(acc)\n",
    "        # update best_model_wts\n",
    "        if acc>best_evaluated_acc:\n",
    "            best_evaluated_acc=acc\n",
    "            best_model_wts=copy.deepcopy(model.state_dict())\n",
    "    \n",
    "    df['acc_train']=acc_train\n",
    "    df['acc_test']=acc_test\n",
    "    \n",
    "    # save model\n",
    "    torch.save(best_model_wts,os.path.join('models',name+'.pt'))\n",
    "    \n",
    "    return df"
   ]
  },
  {
   "cell_type": "code",
   "execution_count": 5,
   "metadata": {},
   "outputs": [],
   "source": [
    "def evaluate(model,loader_test,device,num_class):\n",
    "    \"\"\"\n",
    "    Args:\n",
    "        model: resnet model\n",
    "        loader_test: testing dataloader\n",
    "        device: gpu/cpu\n",
    "        num_class: #target class\n",
    "    Returns:\n",
    "        confusion_matrix: (num_class,num_class) ndarray\n",
    "        acc: accuracy rate\n",
    "    \"\"\"\n",
    "    confusion_matrix=np.zeros((num_class,num_class))\n",
    "    \n",
    "    with torch.set_grad_enabled(False):\n",
    "        model.eval()\n",
    "        correct=0\n",
    "        for images,targets in loader_test:  \n",
    "            images,targets=images.to(device),targets.to(device,dtype=torch.long)\n",
    "            predict=model(images)\n",
    "            predict_class=predict.max(dim=1)[1]\n",
    "            correct+=predict_class.eq(targets).sum().item()\n",
    "            for i in range(len(targets)):\n",
    "                confusion_matrix[int(targets[i])][int(predict_class[i])]+=1\n",
    "        acc=100.*correct/len(loader_test.dataset)\n",
    "        \n",
    "    # normalize confusion_matrix\n",
    "    confusion_matrix=confusion_matrix/confusion_matrix.sum(axis=1).reshape(num_class,1)\n",
    "    \n",
    "    return confusion_matrix,acc"
   ]
  },
  {
   "cell_type": "markdown",
   "metadata": {},
   "source": [
    "## Plot"
   ]
  },
  {
   "cell_type": "code",
   "execution_count": 6,
   "metadata": {},
   "outputs": [],
   "source": [
    "def plot(dataframe1,title):\n",
    "    \"\"\"\n",
    "    Arguments:\n",
    "        dataframe1: dataframe with 'epoch','acc_train','acc_test' columns of with pretrained weights model \n",
    "        title: figure's title\n",
    "    Returns:\n",
    "        figure: an figure\n",
    "    \"\"\"\n",
    "    fig=plt.figure(figsize=(10,6))\n",
    "    for name in dataframe1.columns[1:]:\n",
    "        plt.plot(range(1,1+len(dataframe1)),name,data=dataframe1,label=name[4:]+'(with pretraining)')\n",
    "    plt.xlabel('Epochs')\n",
    "    plt.ylabel('Accuracy(%)')\n",
    "    plt.title(title)\n",
    "    plt.legend()\n",
    "    return fig\n",
    "\n",
    "def plot_confusion_matrix(confusion_matrix):\n",
    "    fig, ax = plt.subplots(figsize=(6,6))\n",
    "    ax.matshow(confusion_matrix, cmap=plt.cm.Blues)\n",
    "    ax.xaxis.set_label_position('top')\n",
    "    for i in range(confusion_matrix.shape[0]):\n",
    "        for j in range(confusion_matrix.shape[1]):\n",
    "            ax.text(i, j, '{:.2f}'.format(confusion_matrix[j, i]), va='center', ha='center')\n",
    "    ax.set_xlabel('Predicted label')\n",
    "    ax.set_ylabel('True label')\n",
    "    return fig"
   ]
  },
  {
   "cell_type": "markdown",
   "metadata": {},
   "source": [
    "## Hyperparameters\n",
    "__num_class__: 5  \n",
    "__batch_size:__  \n",
    "1. Resnet18: 64\n",
    "2. Resnet50: 16\n",
    "\n",
    "__learning rate:__ 5e-4/1e-3  \n",
    "__Epochs:__  \n",
    "1. model wo pretrained weights: 20\n",
    "2. model with pretrained weights: 4(feature extraction) + 16(finetuning)\n",
    "\n",
    "__Optimizer:__ SGD,momentum=0.9,weight_decay=5e-4  \n",
    "__loss function:__ cross entropy  "
   ]
  },
  {
   "cell_type": "code",
   "execution_count": 8,
   "metadata": {},
   "outputs": [],
   "source": [
    "num_class=5\n",
    "batch_size=64\n",
    "lr=1e-3\n",
    "epochs=30\n",
    "epochs_feature_extraction=5\n",
    "epochs_fine_tuning=45\n",
    "momentum=0.9\n",
    "weight_decay_feature_extraction=5e-4\n",
    "weight_decay_finetuning=5e-4\n",
    "Loss=nn.CrossEntropyLoss(weight=torch.Tensor([1.0,10.565217391304348,4.906175771971497,29.591690544412607,35.55077452667814]).to(device))"
   ]
  },
  {
   "cell_type": "markdown",
   "metadata": {},
   "source": [
    "# Run ResNet18"
   ]
  },
  {
   "cell_type": "code",
   "execution_count": 8,
   "metadata": {},
   "outputs": [
    {
     "name": "stdout",
     "output_type": "stream",
     "text": [
      ">> Found 28099 images...\n",
      ">> Found 7025 images...\n"
     ]
    }
   ],
   "source": [
    "dataset_train=RetinopathyDataSet(img_path='data',mode='train')\n",
    "loader_train=DataLoader(dataset=dataset_train,batch_size=batch_size,shuffle=True,num_workers=4)\n",
    "\n",
    "dataset_test=RetinopathyDataSet(img_path='data',mode='test')\n",
    "loader_test=DataLoader(dataset=dataset_test,batch_size=batch_size,shuffle=False,num_workers=4)"
   ]
  },
  {
   "cell_type": "code",
   "execution_count": 9,
   "metadata": {
    "scrolled": true
   },
   "outputs": [
    {
     "name": "stdout",
     "output_type": "stream",
     "text": [
      "epoch 1 loss:0.0233 acc:29.81%\n",
      "epoch 2 loss:0.0213 acc:38.55%\n",
      "epoch 3 loss:0.0207 acc:40.36%\n",
      "epoch 4 loss:0.0204 acc:40.24%\n",
      "epoch 5 loss:0.0202 acc:41.08%\n",
      "epoch 1 loss:0.0196 acc:42.89%\n",
      "epoch 2 loss:0.0174 acc:48.54%\n",
      "epoch 3 loss:0.0161 acc:52.88%\n",
      "epoch 4 loss:0.0157 acc:53.73%\n",
      "epoch 5 loss:0.0147 acc:55.47%\n",
      "epoch 6 loss:0.0138 acc:57.14%\n",
      "epoch 7 loss:0.0136 acc:58.89%\n",
      "epoch 8 loss:0.0132 acc:59.32%\n",
      "epoch 9 loss:0.0123 acc:61.51%\n",
      "epoch10 loss:0.0118 acc:61.98%\n",
      "epoch11 loss:0.0117 acc:61.65%\n",
      "epoch12 loss:0.0108 acc:64.03%\n",
      "epoch13 loss:0.0104 acc:65.11%\n",
      "epoch14 loss:0.0104 acc:66.05%\n",
      "epoch15 loss:0.0098 acc:66.92%\n",
      "epoch16 loss:0.0093 acc:67.70%\n",
      "epoch17 loss:0.0084 acc:69.42%\n",
      "epoch18 loss:0.0080 acc:70.94%\n",
      "epoch19 loss:0.0075 acc:72.33%\n",
      "epoch20 loss:0.0071 acc:73.79%\n",
      "epoch21 loss:0.0070 acc:74.70%\n",
      "epoch22 loss:0.0064 acc:76.21%\n",
      "epoch23 loss:0.0065 acc:76.92%\n",
      "epoch24 loss:0.0063 acc:76.66%\n",
      "epoch25 loss:0.0053 acc:79.87%\n",
      "epoch26 loss:0.0067 acc:76.20%\n",
      "epoch27 loss:0.0048 acc:81.62%\n",
      "epoch28 loss:0.0048 acc:81.73%\n",
      "epoch29 loss:0.0042 acc:83.82%\n",
      "epoch30 loss:0.0044 acc:83.69%\n",
      "epoch31 loss:0.0070 acc:76.14%\n",
      "epoch32 loss:0.0039 acc:85.08%\n",
      "epoch33 loss:0.0036 acc:86.25%\n",
      "epoch34 loss:0.0033 acc:87.59%\n",
      "epoch35 loss:0.0041 acc:85.33%\n",
      "epoch36 loss:0.0032 acc:88.12%\n",
      "epoch37 loss:0.0034 acc:86.96%\n",
      "epoch38 loss:0.0028 acc:89.20%\n",
      "epoch39 loss:0.0023 acc:91.16%\n",
      "epoch40 loss:0.0019 acc:92.31%\n",
      "epoch41 loss:0.0018 acc:92.74%\n",
      "epoch42 loss:0.0016 acc:93.80%\n",
      "epoch43 loss:0.0013 acc:94.75%\n",
      "epoch44 loss:0.0014 acc:94.40%\n",
      "epoch45 loss:0.0011 acc:95.97%\n"
     ]
    },
    {
     "data": {
      "image/png": "[encoded data removed]",
      "text/plain": [
       "<Figure size 432x432 with 1 Axes>"
      ]
     },
     "metadata": {
      "needs_background": "light"
     },
     "output_type": "display_data"
    },
    {
     "data": {
      "image/png": "[encoded data removed]",
      "text/plain": [
       "<Figure size 720x432 with 1 Axes>"
      ]
     },
     "metadata": {
      "needs_background": "light"
     },
     "output_type": "display_data"
    }
   ],
   "source": [
    "\"\"\"\n",
    "resnet18 without pretrained weights\n",
    "\"\"\"\n",
    "'''\n",
    "model_wo=ResNet18(num_class=num_class,pretrained=False)\n",
    "optimizer=optim.SGD(model_wo.parameters(),lr=lr,momentum=momentum,weight_decay=weight_decay)\n",
    "df_wo_pretrained=train(model_wo,loader_train,loader_test,Loss,optimizer,epochs,device,num_class,'resnet18_wo_pretraining')\n",
    "# test and save confusion matrix figure\n",
    "confusion_matrix,_=evaluate(model_wo,loader_test,device,num_class)\n",
    "figure=plot_confusion_matrix(confusion_matrix)\n",
    "figure.savefig('ResNet18 (wo pretrained weights).png')\n",
    "'''\n",
    "\"\"\"\n",
    "resnet18 with pretrained weights\n",
    "    feature extraction for few epochs, then finefuning for some epochs\n",
    "\"\"\"\n",
    "model_with=ResNet18(num_class=num_class,pretrained=True)\n",
    "# feature extraction\n",
    "params_to_update=[]\n",
    "for name,param in model_with.named_parameters():\n",
    "    if param.requires_grad:\n",
    "        params_to_update.append(param)\n",
    "optimizer=optim.SGD(params_to_update,lr=lr,momentum=momentum,weight_decay=weight_decay_feature_extraction)\n",
    "df_firststep=train(model_with,loader_train,loader_test,Loss,optimizer,epochs_feature_extraction,device,num_class,'resnet18_with_pretraining')\n",
    "# finetuning\n",
    "for param in model_with.parameters():\n",
    "    param.requires_grad=True\n",
    "optimizer=optim.SGD(model_with.parameters(),lr=lr,momentum=momentum,weight_decay=weight_decay_finetuning)\n",
    "df_secondstep=train(model_with,loader_train,loader_test,Loss,optimizer,epochs_fine_tuning,device,num_class,'resnet18_with_pretraining')\n",
    "df_with_pretrained=pd.concat([df_firststep,df_secondstep],axis=0,ignore_index=True)\n",
    "\n",
    "# test and get a confusion matrix\n",
    "confusion_matrix,_=evaluate(model_with,loader_test,device,num_class)\n",
    "figure=plot_confusion_matrix(confusion_matrix)\n",
    "figure.savefig('ResNet18 (with pretrained weights).png')\n",
    "\n",
    "\"\"\"\n",
    "plot accuracy figure\n",
    "\"\"\"\n",
    "figure=plot(df_with_pretrained,'Result Comparison(ResNet18)')\n",
    "figure.savefig('Result Comparison(ResNet18).png')"
   ]
  },
  {
   "cell_type": "code",
   "execution_count": 10,
   "metadata": {
    "scrolled": true
   },
   "outputs": [
    {
     "name": "stdout",
     "output_type": "stream",
     "text": [
      "    epoch  acc_train   acc_test\n",
      "0       1  29.808890  60.156584\n",
      "1       2  38.545856  66.718861\n",
      "2       3  40.360867  40.512456\n",
      "3       4  40.239866  49.181495\n",
      "4       5  41.079754  59.971530\n",
      "5       1  42.887647  37.153025\n",
      "6       2  48.539094  45.423488\n",
      "7       3  52.877327  61.879004\n",
      "8       4  53.727891  52.298932\n",
      "9       5  55.471725  57.096085\n",
      "10      6  57.140824  72.512456\n",
      "11      7  58.888217  73.722420\n",
      "12      8  59.322396  72.156584\n",
      "13      9  61.511086  73.281139\n",
      "14     10  61.984412  51.444840\n",
      "15     11  61.646322  65.864769\n",
      "16     12  64.030748  57.081851\n",
      "17     13  65.112637  66.519573\n",
      "18     14  66.048614  64.683274\n",
      "19     15  66.916972  65.822064\n",
      "20     16  67.696359  65.964413\n",
      "21     17  69.415282  74.320285\n",
      "22     18  70.942026  71.772242\n",
      "23     19  72.333535  59.715302\n",
      "24     20  73.789103  61.565836\n",
      "25     21  74.700167  70.548043\n",
      "26     22  76.209118  72.370107\n",
      "27     23  76.917328  51.516014\n",
      "28     24  76.657532  63.886121\n",
      "29     25  79.867611  55.459075\n",
      "30     26  76.198441  48.725979\n",
      "31     27  81.615004  59.074733\n",
      "32     28  81.728887  59.516014\n",
      "33     29  83.817929  70.021352\n",
      "34     30  83.693370  76.825623\n",
      "35     31  76.141500  50.533808\n",
      "36     32  85.077761  67.544484\n",
      "37     33  86.252180  52.099644\n",
      "38     34  87.586747  75.217082\n",
      "39     35  85.333998  61.665480\n",
      "40     36  88.124133  74.747331\n",
      "41     37  86.963949  66.676157\n",
      "42     38  89.202463  70.092527\n",
      "43     39  91.156269  65.395018\n",
      "44     40  92.309335  68.669039\n",
      "45     41  92.739955  76.313167\n",
      "46     42  93.796932  70.120996\n",
      "47     43  94.754262  75.971530\n",
      "48     44  94.398377  74.661922\n",
      "49     45  95.971387  78.505338\n"
     ]
    }
   ],
   "source": [
    "print(df_with_pretrained)"
   ]
  },
  {
   "cell_type": "markdown",
   "metadata": {},
   "source": [
    "## Run ResNet50"
   ]
  },
  {
   "cell_type": "code",
   "execution_count": 9,
   "metadata": {},
   "outputs": [],
   "source": [
    "batch_size=8"
   ]
  },
  {
   "cell_type": "code",
   "execution_count": 10,
   "metadata": {},
   "outputs": [
    {
     "name": "stdout",
     "output_type": "stream",
     "text": [
      ">> Found 28099 images...\n",
      ">> Found 7025 images...\n"
     ]
    }
   ],
   "source": [
    "dataset_train=RetinopathyDataSet(img_path='data',mode='train')\n",
    "loader_train=DataLoader(dataset=dataset_train,batch_size=batch_size,shuffle=True,num_workers=4)\n",
    "\n",
    "dataset_test=RetinopathyDataSet(img_path='data',mode='test')\n",
    "loader_test=DataLoader(dataset=dataset_test,batch_size=batch_size,shuffle=False,num_workers=4)"
   ]
  },
  {
   "cell_type": "code",
   "execution_count": 11,
   "metadata": {
    "scrolled": false
   },
   "outputs": [
    {
     "name": "stdout",
     "output_type": "stream",
     "text": [
      "epoch 1 loss:0.2141 acc:42.83%\n",
      "epoch 2 loss:0.2035 acc:46.00%\n",
      "epoch 3 loss:0.2073 acc:45.56%\n",
      "epoch 4 loss:0.1996 acc:47.38%\n",
      "epoch 5 loss:0.1997 acc:46.77%\n",
      "epoch 1 loss:0.1624 acc:59.77%\n",
      "epoch 2 loss:0.1424 acc:67.56%\n",
      "epoch 3 loss:0.1351 acc:69.55%\n",
      "epoch 4 loss:0.1307 acc:70.40%\n",
      "epoch 5 loss:0.1262 acc:71.27%\n",
      "epoch 6 loss:0.1245 acc:71.58%\n",
      "epoch 7 loss:0.1229 acc:72.30%\n",
      "epoch 8 loss:0.1214 acc:72.48%\n",
      "epoch 9 loss:0.1198 acc:73.32%\n",
      "epoch10 loss:0.1191 acc:73.09%\n",
      "epoch11 loss:0.1164 acc:73.81%\n",
      "epoch12 loss:0.1161 acc:73.73%\n",
      "epoch13 loss:0.1141 acc:73.81%\n",
      "epoch14 loss:0.1139 acc:73.38%\n",
      "epoch15 loss:0.1129 acc:73.86%\n",
      "epoch16 loss:0.1111 acc:74.43%\n",
      "epoch17 loss:0.1099 acc:73.78%\n",
      "epoch18 loss:0.1089 acc:74.53%\n",
      "epoch19 loss:0.1081 acc:73.37%\n",
      "epoch20 loss:0.1069 acc:74.70%\n",
      "epoch21 loss:0.1063 acc:74.18%\n",
      "epoch22 loss:0.1062 acc:74.40%\n",
      "epoch23 loss:0.1044 acc:74.83%\n",
      "epoch24 loss:0.1045 acc:74.69%\n",
      "epoch25 loss:0.1041 acc:73.92%\n",
      "epoch26 loss:0.1020 acc:74.86%\n",
      "epoch27 loss:0.1027 acc:74.49%\n",
      "epoch28 loss:0.1023 acc:74.33%\n",
      "epoch29 loss:0.1004 acc:75.21%\n",
      "epoch30 loss:0.1002 acc:74.62%\n",
      "epoch31 loss:0.0973 acc:74.98%\n",
      "epoch32 loss:0.0993 acc:74.53%\n",
      "epoch33 loss:0.0990 acc:75.00%\n",
      "epoch34 loss:0.0994 acc:74.23%\n",
      "epoch35 loss:0.0944 acc:75.01%\n",
      "epoch36 loss:0.0958 acc:74.28%\n",
      "epoch37 loss:0.0942 acc:75.32%\n",
      "epoch38 loss:0.0950 acc:74.64%\n",
      "epoch39 loss:0.0939 acc:74.74%\n",
      "epoch40 loss:0.0935 acc:75.33%\n",
      "epoch41 loss:0.0894 acc:75.60%\n",
      "epoch42 loss:0.0911 acc:75.77%\n",
      "epoch43 loss:0.0897 acc:76.02%\n",
      "epoch44 loss:0.0875 acc:76.19%\n",
      "epoch45 loss:0.0867 acc:76.36%\n"
     ]
    },
    {
     "data": {
      "image/png": "[encoded data removed]",
      "text/plain": [
       "<Figure size 432x432 with 1 Axes>"
      ]
     },
     "metadata": {
      "needs_background": "light"
     },
     "output_type": "display_data"
    },
    {
     "data": {
      "image/png": "[encoded data removed]",
      "text/plain": [
       "<Figure size 720x432 with 1 Axes>"
      ]
     },
     "metadata": {
      "needs_background": "light"
     },
     "output_type": "display_data"
    }
   ],
   "source": [
    "\"\"\"\n",
    "resnet50 without pretrained weights\n",
    "\"\"\"\n",
    "'''\n",
    "model_wo=ResNet50(num_class=num_class,pretrained=False)\n",
    "optimizer=optim.SGD(model_wo.parameters(),lr=lr,momentum=momentum,weight_decay=weight_decay)\n",
    "df_wo_pretrained=train(model_wo,loader_train,loader_test,Loss,optimizer,epochs,device,num_class,'resnet50_wo_pretraining')\n",
    "# test and save confusion matrix figure\n",
    "confusion_matrix,_=evaluate(model_wo,loader_test,device,num_class)\n",
    "figure=plot_confusion_matrix(confusion_matrix)\n",
    "figure.savefig('ResNet50 (wo pretrained weights).png')\n",
    "'''\n",
    "\"\"\"\n",
    "resnet50 with pretrained weights\n",
    "    first feature extraction for few epochs, then finefuning for some epochs\n",
    "\"\"\"\n",
    "model_with=ResNet50(num_class=num_class,pretrained=True)\n",
    "# feature extraction\n",
    "params_to_update=[]\n",
    "for name,param in model_with.named_parameters():\n",
    "    if param.requires_grad:\n",
    "        params_to_update.append(param)\n",
    "optimizer=optim.SGD(params_to_update,lr=lr,momentum=momentum,weight_decay=weight_decay_feature_extraction)\n",
    "df_firststep=train(model_with,loader_train,loader_test,Loss,optimizer,epochs_feature_extraction,device,num_class,'resnet50_with_pretraining')\n",
    "# finetuning\n",
    "for param in model_with.parameters():\n",
    "    param.requires_grad=True\n",
    "optimizer=optim.SGD(model_with.parameters(),lr=lr,momentum=momentum,weight_decay=weight_decay_finetuning)\n",
    "df_secondstep=train(model_with,loader_train,loader_test,Loss,optimizer,epochs_fine_tuning,device,num_class,'resnet50_with_pretraining')\n",
    "df_with_pretrained=pd.concat([df_firststep,df_secondstep],axis=0,ignore_index=True)\n",
    "\n",
    "# test and get a confusion matrix\n",
    "confusion_matrix,_=evaluate(model_with,loader_test,device,num_class)\n",
    "figure=plot_confusion_matrix(confusion_matrix)\n",
    "figure.savefig('ResNet50 (with pretrained weights).png')\n",
    "\n",
    "\"\"\"\n",
    "plot accuracy figure\n",
    "\"\"\"\n",
    "figure=plot(df_with_pretrained,'Result Comparison(ResNet50)')\n",
    "figure.savefig('Result Comparison(ResNet50).png')"
   ]
  },
  {
   "cell_type": "code",
   "execution_count": 12,
   "metadata": {},
   "outputs": [
    {
     "name": "stdout",
     "output_type": "stream",
     "text": [
      "    epoch  acc_train   acc_test\n",
      "0       1  42.834265  65.167260\n",
      "1       2  45.998078  69.124555\n",
      "2       3  45.563899   9.637011\n",
      "3       4  47.375351  71.971530\n",
      "4       5  46.766789  68.270463\n",
      "5       1  59.770810  64.939502\n",
      "6       2  67.557564  75.786477\n",
      "7       3  69.550518  75.217082\n",
      "8       4  70.397523  75.416370\n",
      "9       5  71.265881  57.836299\n",
      "10      6  71.579060  74.989324\n",
      "11      7  72.297947  77.992883\n",
      "12      8  72.483007  65.651246\n",
      "13      9  73.315776  73.793594\n",
      "14     10  73.091569  78.804270\n",
      "15     11  73.806897  77.608541\n",
      "16     12  73.728602  78.790036\n",
      "17     13  73.806897  75.430605\n",
      "18     14  73.376277  77.765125\n",
      "19     15  73.860280  80.028470\n",
      "20     16  74.433254  70.106762\n",
      "21     17  73.781985  75.516014\n",
      "22     18  74.525784  73.096085\n",
      "23     19  73.365600  72.839858\n",
      "24     20  74.703726  73.622776\n",
      "25     21  74.184135  71.088968\n",
      "26     22  74.401224  72.626335\n",
      "27     23  74.828286  56.227758\n",
      "28     24  74.689491  80.782918\n",
      "29     25  73.920780  68.540925\n",
      "30     26  74.863874  73.537367\n",
      "31     27  74.490195  67.701068\n",
      "32     28  74.330047  66.192171\n",
      "33     29  75.209082  77.480427\n",
      "34     30  74.621873  73.665480\n",
      "35     31  74.977757  62.234875\n",
      "36     32  74.525784  78.206406\n",
      "37     33  75.002669  67.387900\n",
      "38     34  74.230400  70.007117\n",
      "39     35  75.013346  78.548043\n",
      "40     36  74.276665  57.765125\n",
      "41     37  75.322965  66.135231\n",
      "42     38  74.636108  77.537367\n",
      "43     39  74.742873  70.334520\n",
      "44     40  75.326524  76.355872\n",
      "45     41  75.596996  64.526690\n",
      "46     42  75.774939  67.943060\n",
      "47     43  76.016940  62.206406\n",
      "48     44  76.187765  57.950178\n",
      "49     45  76.362148  70.348754\n"
     ]
    }
   ],
   "source": [
    "print(df_with_pretrained)"
   ]
  },
  {
   "cell_type": "code",
   "execution_count": null,
   "metadata": {},
   "outputs": [],
   "source": []
  }
 ],
 "metadata": {
  "kernelspec": {
   "display_name": "Python 3",
   "language": "python",
   "name": "python3"
  },
  "language_info": {
   "codemirror_mode": {
    "name": "ipython",
    "version": 3
   },
   "file_extension": ".py",
   "mimetype": "text/x-python",
   "name": "python",
   "nbconvert_exporter": "python",
   "pygments_lexer": "ipython3",
   "version": "3.6.2"
  }
 },
 "nbformat": 4,
 "nbformat_minor": 2
}
